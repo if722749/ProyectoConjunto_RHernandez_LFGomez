{
 "cells": [
  {
   "cell_type": "markdown",
   "metadata": {},
   "source": [
    "<img style=\"float: left; margin: 30px 15px 15px 15px;\" src=\"https://pngimage.net/wp-content/uploads/2018/06/logo-iteso-png-5.png\" width=\"300\" height=\"500\" /> \n",
    "    \n",
    "    \n",
    "### <font color='navy'> Simulación de procesos financieros. \n",
    "\n",
    "**Nombres:** \n",
    " - Rubén Hernández Guevara   \n",
    " - Luis Felipe Gómez Estrada  \n",
    "**Fecha:** 08 de marzo del 2021.\n",
    "\n",
    "**Expediente** : . \n",
    "**Expediente** : IF722749.  \n",
    "**Profesor:** Oscar David Jaramillo Zuluaga.\n",
    "\n",
    "# Tarea 5: Clase 9"
   ]
  },
  {
   "cell_type": "markdown",
   "metadata": {},
   "source": [
    "> Para las siguiente dos funciones, genere muestres aleatorias que distribuyan según la función dada usando el método de la transformada inversa y grafique el histograma de 1000 muestras generadas con el método de la transformada inversa y compárela con el función $f(x)$ **(recuerde que $f(x)$ es la distribución de probabilidad y $F(x)$ es la distribución de probabilidad acumulada)** [ver este enlace para más información](https://es.wikipedia.org/wiki/Funci%C3%B3n_de_distribuci%C3%B3n). Este procedimiento se realiza con el fín de validar que el procedimiento y los resultados son correctos.\n",
    "    \n",
    "> 1. Generación variable aleatoria continua\n",
    ">El tiempo en el cual un movimiento browniano se mantiene sobre su punto máximo en el intervalo [0,1] tiene una distribución\n",
    ">$$F(x)=\\frac{2}{\\pi}\\sin^{-1}(\\sqrt x),\\quad 0\\leq x\\leq 1$$ </font>\n",
    "\n",
    "> 2. Generación variable aleatoria Discreta\n",
    "> La distribución binomial modela el número de éxitos de n ensayos independientes donde hay una probabilidad p de éxito en cada ensayo.\n",
    "> Generar una variable aletoria binomial con parámetros $n=10$ y $p=0.7$. Recordar que $$X\\sim binomial(n,p) \\longrightarrow p_i=P(X=i)=\\frac{n!}{i!(n-i)!}p^i(1-p)^{n-i},\\quad i=0,1,\\cdots,n$$\n",
    "> Por propiedades de la operación factorial la anterior $p_i$ se puede escribir como:\n",
    "> $$p_{i+1}=\\frac{n-i}{i+1}\\frac{p}{1-p} p_i $$\n",
    "\n",
    "> **Nota:** Por notación recuerde que para el caso continuo $f(x)$ es la distribución de probabilidad (PDF), mientras $F(x)$ corresponde a la distribución de probabilidad acumulada (CDF). Para el caso discreto, $P(X=i)$ corresponde a su distribución de probabilidad (PMF) y $ F_{X}(x)=\\operatorname {P} (X\\leq x)=\\sum _{x_{i}\\leq x}\\operatorname {P} (X=x_{i})=\\sum _{x_{i}\\leq x}p(x_{i})$, corresponde a su distribución de probabilidad acumulada (CDF).\n"
   ]
  },
  {
   "cell_type": "markdown",
   "metadata": {},
   "source": [
    "# Luis Felipe Gómez Estrada"
   ]
  },
  {
   "cell_type": "markdown",
   "metadata": {},
   "source": [
    "**Solución 1**\n",
    "\n",
    "$$ U = \\frac{2}{\\pi}\\sin^{-1}(\\sqrt{x}) $$\n",
    "$$ \\frac{U\\pi}{2} = \\sin^{-1}(\\sqrt{x}) $$\n",
    "$$ \\sin(\\frac{U\\pi}{2}) = \\sqrt{x} $$\n",
    "$$ x = \\sin(\\frac{U\\pi}{2})^2 $$\n",
    "$$ f(x) = \\frac{1}{\\pi \\sqrt{x}\\sqrt{1-x}} $$"
   ]
  },
  {
   "cell_type": "code",
   "execution_count": 1,
   "metadata": {},
   "outputs": [],
   "source": [
    "import numpy as np\n",
    "from matplotlib import pyplot as plt\n",
    "import pandas as pd"
   ]
  },
  {
   "cell_type": "code",
   "execution_count": 2,
   "metadata": {},
   "outputs": [
    {
     "data": {
      "image/png": "[encoded data removed]",
      "text/plain": [
       "<Figure size 720x432 with 1 Axes>"
      ]
     },
     "metadata": {
      "needs_background": "light"
     },
     "output_type": "display_data"
    }
   ],
   "source": [
    "########### Solución 1\n",
    "def randomF(n: int) -> np.array:\n",
    "    U = np.random.rand(n)\n",
    "    x = np.sin(U*np.pi/2)**2\n",
    "    return x\n",
    "\n",
    "n = 1000\n",
    "x = np.linspace(0.01, 0.99, 100)\n",
    "f_x = lambda x: 1/(np.pi * np.sqrt(x) * np.sqrt(1-x))\n",
    "y = f_x(x)\n",
    "\n",
    "x2 = randomF(n)\n",
    "\n",
    "plt.figure(figsize=(10,6))\n",
    "plt.hist(x2, bins=30, density=True)\n",
    "plt.plot(x, y, lw=3, label='f(x)')\n",
    "plt.grid()\n",
    "plt.legend()\n",
    "plt.show()"
   ]
  },
  {
   "cell_type": "code",
   "execution_count": 3,
   "metadata": {},
   "outputs": [
    {
     "data": {
      "image/png": "[encoded data removed]",
      "text/plain": [
       "<Figure size 720x432 with 1 Axes>"
      ]
     },
     "metadata": {
      "needs_background": "light"
     },
     "output_type": "display_data"
    }
   ],
   "source": [
    "########### Solución 2\n",
    "def binomial_distribution(n: int, p:float) -> np.array:\n",
    "    pdf = np.zeros(n)\n",
    "    for i in range(n):\n",
    "        pdf[i] = np.math.factorial(n)/(np.math.factorial(i+1) * np.math.factorial(n - i - 1)) * p ** (i+1) * (1-p)**(n-i-1)\n",
    "    return pdf\n",
    "    \n",
    "def Gen_distr_discreta(p_acum: 'P.Acumulada de la distribución a generar',\n",
    "                       indices: 'valores reales a generar aleatoriamente',\n",
    "                       N: 'cantidad de números aleatorios a generar'):\n",
    "    \n",
    "    U = np.random.rand(N)\n",
    "    # Diccionario de valores aleatorios\n",
    "    rand2reales = {i: idx for i, idx in zip(range(len(indices)), indices)}\n",
    "    # Series de los valores aletorios\n",
    "    y = pd.Series([sum([1 for p in p_acum if p<ui]) for ui in U])\n",
    "    return y\n",
    "\n",
    "n = 10\n",
    "p = 0.7\n",
    "pdf = binomial_distribution(n, p)\n",
    "cdf = pdf.cumsum()\n",
    "x_x = np.arange(1,n+1)\n",
    "\n",
    "N = 10_000\n",
    "x_r = Gen_distr_discreta(cdf, x_x, N)\n",
    "\n",
    "y, x = np.histogram(x_r, bins=len(set(x_x)), density=True)\n",
    "plt.figure(figsize=(10,6))\n",
    "plt.bar(x_x, y)\n",
    "plt.title(f'Distribución Binomial n={n} p={p}')\n",
    "plt.plot(x_x, pdf, 'ro')\n",
    "plt.show()"
   ]
  },
  {
   "cell_type": "markdown",
   "metadata": {},
   "source": [
    "# Rubén Hernández Guevara"
   ]
  },
  {
   "cell_type": "code",
   "execution_count": null,
   "metadata": {},
   "outputs": [],
   "source": []
  },
  {
   "cell_type": "code",
   "execution_count": 5,
   "metadata": {},
   "outputs": [],
   "source": [
    "########### Solución 1\n"
   ]
  },
  {
   "cell_type": "code",
   "execution_count": 6,
   "metadata": {},
   "outputs": [],
   "source": [
    "########### Solución 2\n"
   ]
  },
  {
   "cell_type": "markdown",
   "metadata": {},
   "source": [
    "Enlace al repositorio: <a href=\"https://github.com/if722749/ProyectoConjunto_RHernandez_LFGomez\">https://github.com/if722749/ProyectoConjunto_RHernandez_LFGomez</a>"
   ]
  }
 ],
 "metadata": {
  "kernelspec": {
   "display_name": "Python 3",
   "language": "python",
   "name": "python3"
  },
  "language_info": {
   "codemirror_mode": {
    "name": "ipython",
    "version": 3
   },
   "file_extension": ".py",
   "mimetype": "text/x-python",
   "name": "python",
   "nbconvert_exporter": "python",
   "pygments_lexer": "ipython3",
   "version": "3.8.3"
  }
 },
 "nbformat": 4,
 "nbformat_minor": 4
}
